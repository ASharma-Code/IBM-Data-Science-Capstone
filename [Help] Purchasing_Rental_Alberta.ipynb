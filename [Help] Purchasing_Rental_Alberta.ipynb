{
 "cells": [
  {
   "cell_type": "markdown",
   "metadata": {},
   "source": [
    "## Purchasing a Property in Alberta\n",
    "\n",
    "In this project, we will determine the best neighborhood in Alberta to purchase a rental property based on a amenties within a 1-kilometer proximity. "
   ]
  },
  {
   "cell_type": "markdown",
   "metadata": {},
   "source": [
    "#### Install/import all packages required for this project"
   ]
  },
  {
   "cell_type": "code",
   "execution_count": 1,
   "metadata": {},
   "outputs": [
    {
     "name": "stdout",
     "output_type": "stream",
     "text": [
      "Requirement already satisfied: bs4 in /home/jupyterlab/conda/envs/python/lib/python3.6/site-packages (0.0.1)\n",
      "Requirement already satisfied: beautifulsoup4 in /home/jupyterlab/conda/envs/python/lib/python3.6/site-packages (from bs4) (4.9.3)\n",
      "Requirement already satisfied: soupsieve>1.2; python_version >= \"3.0\" in /home/jupyterlab/conda/envs/python/lib/python3.6/site-packages (from beautifulsoup4->bs4) (2.2)\n",
      "Collecting package metadata (current_repodata.json): done\n",
      "Solving environment: done\n",
      "\n",
      "# All requested packages already installed.\n",
      "\n"
     ]
    }
   ],
   "source": [
    "#Use beautiful soup method\n",
    "!pip install bs4\n",
    "from bs4 import BeautifulSoup # this module helps in web scrapping.\n",
    "import requests  # this module helps us to download a web page\n",
    "\n",
    "import pandas as pd # library for data analsysis\n",
    "pd.set_option('display.max_columns', None)\n",
    "pd.set_option('display.max_rows', None)\n",
    "\n",
    "import numpy as np # library to handle data in a vectorized manner\n",
    "\n",
    "import json # library to handle JSON files\n",
    "\n",
    "!conda install -c conda-forge geopy --yes # uncomment this line if you haven't completed the Foursquare API lab\n",
    "from geopy.geocoders import Nominatim # convert an address into latitude and longitude values\n",
    "\n",
    "import requests # library to handle requests\n",
    "from pandas.io.json import json_normalize # tranform JSON file into a pandas dataframe\n",
    "\n",
    "# Matplotlib and associated plotting modules\n",
    "import matplotlib.cm as cm\n",
    "import matplotlib.colors as colors\n",
    "\n",
    "# import k-means from clustering stage\n",
    "from sklearn.cluster import KMeans\n",
    "\n",
    "#!conda install -c conda-forge folium=0.5.0 --yes # uncomment this line if you haven't completed the Foursquare API lab\n",
    "import folium # map rendering library"
   ]
  },
  {
   "cell_type": "markdown",
   "metadata": {},
   "source": [
    "\n",
    "\n",
    "\n",
    "#### Begin collecting data from the Wikipedia Article for Neighborhoods in Alberta"
   ]
  },
  {
   "cell_type": "code",
   "execution_count": 2,
   "metadata": {},
   "outputs": [],
   "source": [
    "#Url containing data regarding Alberta postal codes, boroughs, neighborhoods, latitiude and longitude.\n",
    "url = \"https://en.wikipedia.org/wiki/List_of_postal_codes_of_Canada:_T\""
   ]
  },
  {
   "cell_type": "code",
   "execution_count": 3,
   "metadata": {},
   "outputs": [],
   "source": [
    "#Obtain contents of the webpage in text format\n",
    "data  = requests.get(url).text\n",
    "\n",
    "#Start converting into a readable html format\n",
    "soup = BeautifulSoup(data,\"html5lib\")\n",
    "\n",
    "#Find all HTML tables in the web page\n",
    "tables = soup.find_all('table')\n"
   ]
  },
  {
   "cell_type": "code",
   "execution_count": 4,
   "metadata": {},
   "outputs": [
    {
     "data": {
      "text/html": [
       "<div>\n",
       "<style scoped>\n",
       "    .dataframe tbody tr th:only-of-type {\n",
       "        vertical-align: middle;\n",
       "    }\n",
       "\n",
       "    .dataframe tbody tr th {\n",
       "        vertical-align: top;\n",
       "    }\n",
       "\n",
       "    .dataframe thead th {\n",
       "        text-align: right;\n",
       "    }\n",
       "</style>\n",
       "<table border=\"1\" class=\"dataframe\">\n",
       "  <thead>\n",
       "    <tr style=\"text-align: right;\">\n",
       "      <th></th>\n",
       "      <th>Postal Code</th>\n",
       "      <th>Borough</th>\n",
       "      <th>Neighbourhood</th>\n",
       "      <th>Latitude</th>\n",
       "      <th>Longitude</th>\n",
       "    </tr>\n",
       "  </thead>\n",
       "  <tbody>\n",
       "    <tr>\n",
       "      <th>175</th>\n",
       "      <td>T5Z</td>\n",
       "      <td>Edmonton</td>\n",
       "      <td>West Lake District</td>\n",
       "      <td>53.5966</td>\n",
       "      <td>-113.4882</td>\n",
       "    </tr>\n",
       "    <tr>\n",
       "      <th>176</th>\n",
       "      <td>T6Z</td>\n",
       "      <td>Not assigned</td>\n",
       "      <td>Not assigned</td>\n",
       "      <td>Not assigned</td>\n",
       "      <td>Not assigned</td>\n",
       "    </tr>\n",
       "    <tr>\n",
       "      <th>177</th>\n",
       "      <td>T7Z</td>\n",
       "      <td>Stony Plain</td>\n",
       "      <td>Not assigned</td>\n",
       "      <td>53.5202</td>\n",
       "      <td>-114.0135</td>\n",
       "    </tr>\n",
       "    <tr>\n",
       "      <th>178</th>\n",
       "      <td>T8Z</td>\n",
       "      <td>Not assigned</td>\n",
       "      <td>Not assigned</td>\n",
       "      <td>Not assigned</td>\n",
       "      <td>Not assigned</td>\n",
       "    </tr>\n",
       "    <tr>\n",
       "      <th>179</th>\n",
       "      <td>T9Z</td>\n",
       "      <td>Not assigned</td>\n",
       "      <td>Not assigned</td>\n",
       "      <td>Not assigned</td>\n",
       "      <td>Not assigned</td>\n",
       "    </tr>\n",
       "  </tbody>\n",
       "</table>\n",
       "</div>"
      ],
      "text/plain": [
       "    Postal Code       Borough       Neighbourhood      Latitude     Longitude\n",
       "175         T5Z      Edmonton  West Lake District       53.5966     -113.4882\n",
       "176         T6Z  Not assigned        Not assigned  Not assigned  Not assigned\n",
       "177         T7Z   Stony Plain        Not assigned       53.5202     -114.0135\n",
       "178         T8Z  Not assigned        Not assigned  Not assigned  Not assigned\n",
       "179         T9Z  Not assigned        Not assigned  Not assigned  Not assigned"
      ]
     },
     "execution_count": 4,
     "metadata": {},
     "output_type": "execute_result"
    }
   ],
   "source": [
    "#Turn the data into a dataframe\n",
    "alberta_data = pd.DataFrame(columns=[\"Postal Code\", \"Borough\", \"Neighbourhood\", \"Latitude\", \"Longitude\"])\n",
    "\n",
    "for row in tables[1].tbody.find_all(\"tr\"):\n",
    "    col = row.find_all(\"td\")\n",
    "    if (col != []):\n",
    "        postal_code = col[0].text.strip()\n",
    "        borough = col[1].text.strip()\n",
    "        neighbourhood = col[2].text.strip()\n",
    "        latitude = col[3].text.strip()\n",
    "        longitude = col[4].text.strip()\n",
    "        alberta_data = alberta_data.append({\"Postal Code\":postal_code, \"Borough\":borough, \"Neighbourhood\":neighbourhood, \"Latitude\":latitude, \"Longitude\":longitude}, ignore_index=True)\n",
    "\n",
    "alberta_data.tail()"
   ]
  },
  {
   "cell_type": "code",
   "execution_count": 5,
   "metadata": {},
   "outputs": [
    {
     "data": {
      "text/html": [
       "<div>\n",
       "<style scoped>\n",
       "    .dataframe tbody tr th:only-of-type {\n",
       "        vertical-align: middle;\n",
       "    }\n",
       "\n",
       "    .dataframe tbody tr th {\n",
       "        vertical-align: top;\n",
       "    }\n",
       "\n",
       "    .dataframe thead th {\n",
       "        text-align: right;\n",
       "    }\n",
       "</style>\n",
       "<table border=\"1\" class=\"dataframe\">\n",
       "  <thead>\n",
       "    <tr style=\"text-align: right;\">\n",
       "      <th></th>\n",
       "      <th>Postal Code</th>\n",
       "      <th>Borough</th>\n",
       "      <th>Neighbourhood</th>\n",
       "      <th>Latitude</th>\n",
       "      <th>Longitude</th>\n",
       "    </tr>\n",
       "  </thead>\n",
       "  <tbody>\n",
       "    <tr>\n",
       "      <th>162</th>\n",
       "      <td>T1Y</td>\n",
       "      <td>Calgary</td>\n",
       "      <td>Rundle, Whitehorn, Monterey Park</td>\n",
       "      <td>51.0759</td>\n",
       "      <td>-114.0015</td>\n",
       "    </tr>\n",
       "    <tr>\n",
       "      <th>163</th>\n",
       "      <td>T2Y</td>\n",
       "      <td>Calgary</td>\n",
       "      <td>Millrise, Somerset, Bridlewood, Evergreen</td>\n",
       "      <td>50.9093</td>\n",
       "      <td>-114.0721</td>\n",
       "    </tr>\n",
       "    <tr>\n",
       "      <th>166</th>\n",
       "      <td>T5Y</td>\n",
       "      <td>Edmonton</td>\n",
       "      <td>Horse Hill, East Lake District</td>\n",
       "      <td>53.6026</td>\n",
       "      <td>-113.3837</td>\n",
       "    </tr>\n",
       "    <tr>\n",
       "      <th>172</th>\n",
       "      <td>T2Z</td>\n",
       "      <td>Calgary</td>\n",
       "      <td>Douglas Glen, McKenzie Lake, Copperfield, East...</td>\n",
       "      <td>50.9023</td>\n",
       "      <td>-113.9873</td>\n",
       "    </tr>\n",
       "    <tr>\n",
       "      <th>175</th>\n",
       "      <td>T5Z</td>\n",
       "      <td>Edmonton</td>\n",
       "      <td>West Lake District</td>\n",
       "      <td>53.5966</td>\n",
       "      <td>-113.4882</td>\n",
       "    </tr>\n",
       "  </tbody>\n",
       "</table>\n",
       "</div>"
      ],
      "text/plain": [
       "    Postal Code   Borough                                      Neighbourhood  \\\n",
       "162         T1Y   Calgary                   Rundle, Whitehorn, Monterey Park   \n",
       "163         T2Y   Calgary          Millrise, Somerset, Bridlewood, Evergreen   \n",
       "166         T5Y  Edmonton                     Horse Hill, East Lake District   \n",
       "172         T2Z   Calgary  Douglas Glen, McKenzie Lake, Copperfield, East...   \n",
       "175         T5Z  Edmonton                                 West Lake District   \n",
       "\n",
       "    Latitude  Longitude  \n",
       "162  51.0759  -114.0015  \n",
       "163  50.9093  -114.0721  \n",
       "166  53.6026  -113.3837  \n",
       "172  50.9023  -113.9873  \n",
       "175  53.5966  -113.4882  "
      ]
     },
     "execution_count": 5,
     "metadata": {},
     "output_type": "execute_result"
    }
   ],
   "source": [
    "# Remove all rows that have \"Not assigned\"\n",
    "alberta_data = alberta_data[alberta_data.Borough != 'Not assigned']\n",
    "alberta_data = alberta_data[alberta_data.Neighbourhood != 'Not assigned']\n",
    "alberta_data = alberta_data[alberta_data.Latitude != 'Not assigned']\n",
    "alberta_data.tail()"
   ]
  },
  {
   "cell_type": "code",
   "execution_count": 6,
   "metadata": {},
   "outputs": [
    {
     "name": "stdout",
     "output_type": "stream",
     "text": [
      "Postal Code      object\n",
      "Borough          object\n",
      "Neighbourhood    object\n",
      "Latitude         object\n",
      "Longitude        object\n",
      "dtype: object\n"
     ]
    }
   ],
   "source": [
    "#Check dtypes\n",
    "print(alberta_data.dtypes)"
   ]
  },
  {
   "cell_type": "code",
   "execution_count": 7,
   "metadata": {},
   "outputs": [
    {
     "data": {
      "text/html": [
       "<div>\n",
       "<style scoped>\n",
       "    .dataframe tbody tr th:only-of-type {\n",
       "        vertical-align: middle;\n",
       "    }\n",
       "\n",
       "    .dataframe tbody tr th {\n",
       "        vertical-align: top;\n",
       "    }\n",
       "\n",
       "    .dataframe thead th {\n",
       "        text-align: right;\n",
       "    }\n",
       "</style>\n",
       "<table border=\"1\" class=\"dataframe\">\n",
       "  <thead>\n",
       "    <tr style=\"text-align: right;\">\n",
       "      <th></th>\n",
       "      <th>Postal Code</th>\n",
       "      <th>Borough</th>\n",
       "      <th>Neighbourhood</th>\n",
       "      <th>Latitude</th>\n",
       "      <th>Longitude</th>\n",
       "    </tr>\n",
       "  </thead>\n",
       "  <tbody>\n",
       "    <tr>\n",
       "      <th>162</th>\n",
       "      <td>T1Y</td>\n",
       "      <td>Calgary</td>\n",
       "      <td>Rundle, Whitehorn, Monterey Park</td>\n",
       "      <td>51.0759</td>\n",
       "      <td>-114.0015</td>\n",
       "    </tr>\n",
       "    <tr>\n",
       "      <th>163</th>\n",
       "      <td>T2Y</td>\n",
       "      <td>Calgary</td>\n",
       "      <td>Millrise, Somerset, Bridlewood, Evergreen</td>\n",
       "      <td>50.9093</td>\n",
       "      <td>-114.0721</td>\n",
       "    </tr>\n",
       "    <tr>\n",
       "      <th>166</th>\n",
       "      <td>T5Y</td>\n",
       "      <td>Edmonton</td>\n",
       "      <td>Horse Hill, East Lake District</td>\n",
       "      <td>53.6026</td>\n",
       "      <td>-113.3837</td>\n",
       "    </tr>\n",
       "    <tr>\n",
       "      <th>172</th>\n",
       "      <td>T2Z</td>\n",
       "      <td>Calgary</td>\n",
       "      <td>Douglas Glen, McKenzie Lake, Copperfield, East...</td>\n",
       "      <td>50.9023</td>\n",
       "      <td>-113.9873</td>\n",
       "    </tr>\n",
       "    <tr>\n",
       "      <th>175</th>\n",
       "      <td>T5Z</td>\n",
       "      <td>Edmonton</td>\n",
       "      <td>West Lake District</td>\n",
       "      <td>53.5966</td>\n",
       "      <td>-113.4882</td>\n",
       "    </tr>\n",
       "  </tbody>\n",
       "</table>\n",
       "</div>"
      ],
      "text/plain": [
       "    Postal Code   Borough                                      Neighbourhood  \\\n",
       "162         T1Y   Calgary                   Rundle, Whitehorn, Monterey Park   \n",
       "163         T2Y   Calgary          Millrise, Somerset, Bridlewood, Evergreen   \n",
       "166         T5Y  Edmonton                     Horse Hill, East Lake District   \n",
       "172         T2Z   Calgary  Douglas Glen, McKenzie Lake, Copperfield, East...   \n",
       "175         T5Z  Edmonton                                 West Lake District   \n",
       "\n",
       "     Latitude  Longitude  \n",
       "162   51.0759  -114.0015  \n",
       "163   50.9093  -114.0721  \n",
       "166   53.6026  -113.3837  \n",
       "172   50.9023  -113.9873  \n",
       "175   53.5966  -113.4882  "
      ]
     },
     "execution_count": 7,
     "metadata": {},
     "output_type": "execute_result"
    }
   ],
   "source": [
    "#Clean up the latitude and longitude colums so they display a \"float\" value\n",
    "alberta_data['Latitude'] = pd.to_numeric(alberta_data['Latitude'])\n",
    "alberta_data['Longitude'] = pd.to_numeric(alberta_data['Longitude'])\n",
    "alberta_data.tail()"
   ]
  },
  {
   "cell_type": "code",
   "execution_count": 8,
   "metadata": {},
   "outputs": [
    {
     "name": "stdout",
     "output_type": "stream",
     "text": [
      "Postal Code       object\n",
      "Borough           object\n",
      "Neighbourhood     object\n",
      "Latitude         float64\n",
      "Longitude        float64\n",
      "dtype: object\n"
     ]
    }
   ],
   "source": [
    "#Re-Check dtypes\n",
    "print(alberta_data.dtypes)"
   ]
  },
  {
   "cell_type": "code",
   "execution_count": 9,
   "metadata": {},
   "outputs": [
    {
     "data": {
      "text/html": [
       "<div>\n",
       "<style scoped>\n",
       "    .dataframe tbody tr th:only-of-type {\n",
       "        vertical-align: middle;\n",
       "    }\n",
       "\n",
       "    .dataframe tbody tr th {\n",
       "        vertical-align: top;\n",
       "    }\n",
       "\n",
       "    .dataframe thead th {\n",
       "        text-align: right;\n",
       "    }\n",
       "</style>\n",
       "<table border=\"1\" class=\"dataframe\">\n",
       "  <thead>\n",
       "    <tr style=\"text-align: right;\">\n",
       "      <th></th>\n",
       "      <th>Postal Code</th>\n",
       "      <th>Neighbourhood</th>\n",
       "      <th>Latitude</th>\n",
       "      <th>Longitude</th>\n",
       "    </tr>\n",
       "    <tr>\n",
       "      <th>Borough</th>\n",
       "      <th></th>\n",
       "      <th></th>\n",
       "      <th></th>\n",
       "      <th></th>\n",
       "    </tr>\n",
       "  </thead>\n",
       "  <tbody>\n",
       "    <tr>\n",
       "      <th>Airdrie</th>\n",
       "      <td>2</td>\n",
       "      <td>2</td>\n",
       "      <td>2</td>\n",
       "      <td>2</td>\n",
       "    </tr>\n",
       "    <tr>\n",
       "      <th>Calgary</th>\n",
       "      <td>34</td>\n",
       "      <td>34</td>\n",
       "      <td>34</td>\n",
       "      <td>34</td>\n",
       "    </tr>\n",
       "    <tr>\n",
       "      <th>Edmonton</th>\n",
       "      <td>38</td>\n",
       "      <td>38</td>\n",
       "      <td>38</td>\n",
       "      <td>38</td>\n",
       "    </tr>\n",
       "    <tr>\n",
       "      <th>Fort McMurray</th>\n",
       "      <td>3</td>\n",
       "      <td>3</td>\n",
       "      <td>3</td>\n",
       "      <td>3</td>\n",
       "    </tr>\n",
       "    <tr>\n",
       "      <th>Grande Prairie</th>\n",
       "      <td>3</td>\n",
       "      <td>3</td>\n",
       "      <td>3</td>\n",
       "      <td>3</td>\n",
       "    </tr>\n",
       "    <tr>\n",
       "      <th>Leduc</th>\n",
       "      <td>1</td>\n",
       "      <td>1</td>\n",
       "      <td>1</td>\n",
       "      <td>1</td>\n",
       "    </tr>\n",
       "    <tr>\n",
       "      <th>Lethbridge</th>\n",
       "      <td>3</td>\n",
       "      <td>3</td>\n",
       "      <td>3</td>\n",
       "      <td>3</td>\n",
       "    </tr>\n",
       "    <tr>\n",
       "      <th>Medicine Hat</th>\n",
       "      <td>3</td>\n",
       "      <td>3</td>\n",
       "      <td>3</td>\n",
       "      <td>3</td>\n",
       "    </tr>\n",
       "    <tr>\n",
       "      <th>Red Deer</th>\n",
       "      <td>3</td>\n",
       "      <td>3</td>\n",
       "      <td>3</td>\n",
       "      <td>3</td>\n",
       "    </tr>\n",
       "    <tr>\n",
       "      <th>Sherwood Park</th>\n",
       "      <td>6</td>\n",
       "      <td>6</td>\n",
       "      <td>6</td>\n",
       "      <td>6</td>\n",
       "    </tr>\n",
       "    <tr>\n",
       "      <th>Spruce Grove</th>\n",
       "      <td>1</td>\n",
       "      <td>1</td>\n",
       "      <td>1</td>\n",
       "      <td>1</td>\n",
       "    </tr>\n",
       "  </tbody>\n",
       "</table>\n",
       "</div>"
      ],
      "text/plain": [
       "                Postal Code  Neighbourhood  Latitude  Longitude\n",
       "Borough                                                        \n",
       "Airdrie                   2              2         2          2\n",
       "Calgary                  34             34        34         34\n",
       "Edmonton                 38             38        38         38\n",
       "Fort McMurray             3              3         3          3\n",
       "Grande Prairie            3              3         3          3\n",
       "Leduc                     1              1         1          1\n",
       "Lethbridge                3              3         3          3\n",
       "Medicine Hat              3              3         3          3\n",
       "Red Deer                  3              3         3          3\n",
       "Sherwood Park             6              6         6          6\n",
       "Spruce Grove              1              1         1          1"
      ]
     },
     "execution_count": 9,
     "metadata": {},
     "output_type": "execute_result"
    }
   ],
   "source": [
    "alberta_data.groupby('Borough').count()"
   ]
  },
  {
   "cell_type": "code",
   "execution_count": 10,
   "metadata": {},
   "outputs": [],
   "source": [
    "#alberta_data_yeg = alberta_data[alberta_data.Borough == 'Edmonton']\n",
    "#alberta_data_yyc = alberta_data[alberta_data.Borough == 'Calgary']"
   ]
  },
  {
   "cell_type": "code",
   "execution_count": 11,
   "metadata": {},
   "outputs": [],
   "source": [
    "#alberta_data_yeg.head()"
   ]
  },
  {
   "cell_type": "code",
   "execution_count": 12,
   "metadata": {},
   "outputs": [],
   "source": [
    "#alberta_data_yyc.head()"
   ]
  },
  {
   "cell_type": "code",
   "execution_count": 13,
   "metadata": {},
   "outputs": [],
   "source": [
    "#alberta_data = pd.concat([alberta_data_yeg, alberta_data_yyc], ignore_index=True)\n",
    "#alberta_data = alberta_data_yeg\n",
    "#alberta_data.tail()"
   ]
  },
  {
   "cell_type": "code",
   "execution_count": 14,
   "metadata": {},
   "outputs": [],
   "source": [
    "#alberta_data.groupby('Borough').count()"
   ]
  },
  {
   "cell_type": "markdown",
   "metadata": {},
   "source": [
    "#### Looking at the data we have currently collected in a map form"
   ]
  },
  {
   "cell_type": "code",
   "execution_count": 15,
   "metadata": {},
   "outputs": [
    {
     "name": "stdout",
     "output_type": "stream",
     "text": [
      "The dataframe has 11 boroughs and 97 neighborhoods.\n"
     ]
    }
   ],
   "source": [
    "print('The dataframe has {} boroughs and {} neighborhoods.'.format(\n",
    "        len(alberta_data['Borough'].unique()),\n",
    "        alberta_data.shape[0]\n",
    "    )\n",
    ")"
   ]
  },
  {
   "cell_type": "code",
   "execution_count": 16,
   "metadata": {},
   "outputs": [
    {
     "name": "stdout",
     "output_type": "stream",
     "text": [
      "The geograpical coordinate of Alberta are 55.001251, -115.002136.\n"
     ]
    }
   ],
   "source": [
    "address = 'Alberta, Canada'\n",
    "\n",
    "geolocator = Nominatim(user_agent=\"alberta_explorer\")\n",
    "location = geolocator.geocode(address)\n",
    "latitude = location.latitude\n",
    "longitude = location.longitude\n",
    "print('The geograpical coordinate of Alberta are {}, {}.'.format(latitude, longitude))"
   ]
  },
  {
   "cell_type": "code",
   "execution_count": 17,
   "metadata": {},
   "outputs": [
    {
     "data": {
      "text/html": [
       "<div style=\"width:100%;\"><div style=\"position:relative;width:100%;height:0;padding-bottom:60%;\"><span style=\"color:#565656\">Make this Notebook Trusted to load map: File -> Trust Notebook</span><iframe src=\"about:blank\" style=\"position:absolute;width:100%;height:100%;left:0;top:0;border:none !important;\" data-html=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 onload=\"this.contentDocument.open();this.contentDocument.write(atob(this.getAttribute('data-html')));this.contentDocument.close();\" allowfullscreen webkitallowfullscreen mozallowfullscreen></iframe></div></div>"
      ],
      "text/plain": [
       "<folium.folium.Map at 0x7f85b9c0f208>"
      ]
     },
     "execution_count": 17,
     "metadata": {},
     "output_type": "execute_result"
    }
   ],
   "source": [
    "# create map of Alberta using latitude and longitude values\n",
    "map_alberta = folium.Map(location=[latitude, longitude], zoom_start=5.5)\n",
    "\n",
    "# add markers to map\n",
    "for lat, lng, borough, neighbourhood in zip(alberta_data['Latitude'], alberta_data['Longitude'], alberta_data['Borough'], alberta_data['Neighbourhood']):\n",
    "    label = '{}, {}'.format(neighbourhood, borough)\n",
    "    label = folium.Popup(label, parse_html=True)\n",
    "    folium.CircleMarker(\n",
    "        [lat, lng],\n",
    "        radius=5,\n",
    "        popup=label,\n",
    "        color='blue',\n",
    "        fill=True,\n",
    "        fill_color='#3186cc',\n",
    "        fill_opacity=0.7,\n",
    "        parse_html=False).add_to(map_alberta)  \n",
    "    \n",
    "map_alberta"
   ]
  },
  {
   "cell_type": "markdown",
   "metadata": {},
   "source": [
    "#### Get data from Foursquare"
   ]
  },
  {
   "cell_type": "code",
   "execution_count": 29,
   "metadata": {},
   "outputs": [
    {
     "name": "stdout",
     "output_type": "stream",
     "text": [
      "Your credentails:\n",
      "CLIENT_ID: CPABSE2VIDC2M0ATA2EWJFC1OMY4DP0SFTUIFIHFUTDEUEIH\n",
      "CLIENT_SECRET:U503LR42EI0KE3GEJVSJO1WYQCH42ZF114RHNMNUHXJZBXES\n"
     ]
    }
   ],
   "source": [
    "#Foursquare credentials\n",
    "\n",
    "CLIENT_ID = 'CPABSE2VIDC2M0ATA2EWJFC1OMY4DP0SFTUIFIHFUTDEUEIH' # your Foursquare ID\n",
    "CLIENT_SECRET = 'U503LR42EI0KE3GEJVSJO1WYQCH42ZF114RHNMNUHXJZBXES' # your Foursquare Secret\n",
    "VERSION = '20210101' # Foursquare API version\n",
    "LIMIT = 500 # A default Foursquare API limit value\n",
    "\n",
    "print('Your credentails:')\n",
    "print('CLIENT_ID: ' + CLIENT_ID)\n",
    "print('CLIENT_SECRET:' + CLIENT_SECRET)"
   ]
  },
  {
   "cell_type": "code",
   "execution_count": 30,
   "metadata": {},
   "outputs": [],
   "source": [
    "def getNearbyVenues(names, latitudes, longitudes, radius=500):\n",
    "    \n",
    "    venues_list=[]\n",
    "    for name, lat, lng in zip(names, latitudes, longitudes):\n",
    "        print(name)\n",
    "            \n",
    "        # create the API request URL\n",
    "        url = 'https://api.foursquare.com/v2/venues/explore?&client_id={}&client_secret={}&v={}&ll={},{}&radius={}&limit={}'.format(\n",
    "            CLIENT_ID, \n",
    "            CLIENT_SECRET, \n",
    "            VERSION, \n",
    "            latitude, \n",
    "            longitude, \n",
    "            radius, \n",
    "            LIMIT)\n",
    "            \n",
    "        # make the GET request\n",
    "        results = requests.get(url).json()[\"response\"]['groups'][0]['items']\n",
    "        \n",
    "        # return only relevant information for each nearby venue\n",
    "        venues_list.append([(\n",
    "            name, \n",
    "            lat, \n",
    "            lng, \n",
    "            v['venue']['name'], \n",
    "            v['venue']['location']['lat'], \n",
    "            v['venue']['location']['lng'],  \n",
    "            v['venue']['categories'][0]['name']) for v in results])\n",
    "\n",
    "    nearby_venues = pd.DataFrame([item for venue_list in venues_list for item in venue_list])\n",
    "    nearby_venues.columns = ['Neighborhood', \n",
    "                  'Neighborhood Latitude', \n",
    "                  'Neighborhood Longitude', \n",
    "                  'Venue', \n",
    "                  'Venue Latitude', \n",
    "                  'Venue Longitude', \n",
    "                  'Venue Category']\n",
    "    \n",
    "    return(nearby_venues)"
   ]
  },
  {
   "cell_type": "code",
   "execution_count": 31,
   "metadata": {},
   "outputs": [
    {
     "name": "stdout",
     "output_type": "stream",
     "text": [
      "Central Medicine Hat\n",
      "Penbrooke Meadows, Marlborough\n",
      "Dalhousie, Edgemont, Hamptons, Hidden Valley\n",
      "East Airdrie\n",
      "West Clareview, East Londonderry\n",
      "North Capilano\n",
      "West Sherwood Park\n",
      "South Medicine Hat\n",
      "Forest Lawn, Dover, Erin Woods\n",
      "Montgomery, Bowness, Silver Springs, Greenwood\n",
      "West Airdrie\n",
      "East North Central, West Beverly\n",
      "SE Capilano, West Southeast Industrial, East Bonnie Doon\n",
      "Outer Southwest\n",
      "North Medicine Hat\n",
      "Lynnwood Ridge, Ogden, Foothills Industrial, Great Plains\n",
      "Rosscarrock, Westgate, Wildwood, Shaganappi, Sunalta\n",
      "Central Londonderry\n",
      "Central Bonnie Doon\n",
      "Inner Southwest Sherwood Park\n",
      "Bridgeland, Greenview, Zoo, YYC\n",
      "Lakeview, Glendale, Killarney, Glamorgan\n",
      "West Londonderry, East Calder\n",
      "South Bonnie Doon, East University\n",
      "Central Sherwood Park (Ardrossan)\n",
      "Leduc (Includes YEG)\n",
      "Inglewood, Burnsland, Chinatown, East Victoria Park, Saddledome\n",
      "Hawkwood, Arbour Lake, Citadel, Ranchlands, Royal Oak, Rocky Ridge\n",
      "North Central, Queen Mary Park, Blatchford\n",
      "West University, Strathcona Place\n",
      "East Sherwood Park (Ardrossan)\n",
      "North Lethbridge\n",
      "Highfield, Burns Industrial\n",
      "Discovery Ridge, Signal Hill, West Springs, Christie Estates, Patterson, Cougar Ridge\n",
      "NorthDowntown Fringe, East Downtown Fringe\n",
      "Southgate, North Riverbend\n",
      "Northwest Sherwood Park\n",
      "Outer Central Fort McMurray\n",
      "West and Central Lethbridge\n",
      "Queensland, Lake Bonavista, Willow Park, Acadia\n",
      "Martindale, Taradale, Falconridge, Saddle Ridge\n",
      "North Downtown\n",
      "Kaskitayo, Aspen Gardens\n",
      "Inner Central Fort McMurray\n",
      "West and South Lethbridge\n",
      "Thorncliffe, Tuxedo Park\n",
      "Sandstone, MacEwan Glen, Beddington, Harvest Hills, Coventry Hills, Panorama Hills\n",
      "South Downtown, South Downtown Fringe (Alberta Provincial Government)\n",
      "West Mill Woods\n",
      "Northwest Fort McMurray\n",
      "Brentwood, Collingwood, Nose Hill\n",
      "Tuscany, Scenic Acres\n",
      "North Westmount, West Calder, East Mistatim\n",
      "East Mill Woods\n",
      "Mount Pleasant, Capitol Hill, Banff Trail\n",
      "Cranston, Auburn Bay, Mahogany\n",
      "South Westmount, Groat Estate, East Northwest Industrial\n",
      "Southwest Edmonton\n",
      "Kensington, Westmont, Parkdale, University\n",
      "Northeast Calgary\n",
      "Central Red Deer\n",
      "Glenora, SW Downtown Fringe\n",
      "South Industrial\n",
      "City Centre, Calgary Tower\n",
      "Symons Valley\n",
      "North Red Deer\n",
      "North Jasper Place\n",
      "East Southeast Industrial, South Clover Bar\n",
      "Connaught, West Victoria Park\n",
      "Northwest Calgary\n",
      "South Red Deer\n",
      "Central Jasper Place, Buena Vista\n",
      "Southgate, North Riverbend\n",
      "Elbow Park, Britannia, Parkhill, Mission\n",
      "West Northwest Industrial, Winterburn\n",
      "North Clover Bar\n",
      "South Calgary (Altadore / Bankview / Richmond)\n",
      "West Jasper Place, West Edmonton Mall\n",
      "The Meadows\n",
      "Oak Ridge, Haysboro, Kingsland, Kelvin Grove, Windsor Park\n",
      "Central Mistatim\n",
      "The Palisades, West Castle Downs\n",
      "Central Grande Prairie\n",
      "Braeside, Cedarbrae, Woodbine\n",
      "Central Beverly\n",
      "Heritage Valley\n",
      "South Grande Prairie\n",
      "Midnapore, Sundance\n",
      "East Castledowns\n",
      "Ellerslie\n",
      "North Spruce Grove\n",
      "East Grande Prairie\n",
      "Rundle, Whitehorn, Monterey Park\n",
      "Millrise, Somerset, Bridlewood, Evergreen\n",
      "Horse Hill, East Lake District\n",
      "Douglas Glen, McKenzie Lake, Copperfield, East Shepard\n",
      "West Lake District\n"
     ]
    },
    {
     "ename": "ValueError",
     "evalue": "Length mismatch: Expected axis has 0 elements, new values have 7 elements",
     "output_type": "error",
     "traceback": [
      "\u001b[0;31m---------------------------------------------------------------------------\u001b[0m",
      "\u001b[0;31mValueError\u001b[0m                                Traceback (most recent call last)",
      "\u001b[0;32m<ipython-input-31-34939ec0b07d>\u001b[0m in \u001b[0;36m<module>\u001b[0;34m\u001b[0m\n\u001b[1;32m      1\u001b[0m alberta_venues = getNearbyVenues(names=alberta_data['Neighbourhood'],\n\u001b[1;32m      2\u001b[0m                                    \u001b[0mlatitudes\u001b[0m\u001b[0;34m=\u001b[0m\u001b[0malberta_data\u001b[0m\u001b[0;34m[\u001b[0m\u001b[0;34m'Latitude'\u001b[0m\u001b[0;34m]\u001b[0m\u001b[0;34m,\u001b[0m\u001b[0;34m\u001b[0m\u001b[0;34m\u001b[0m\u001b[0m\n\u001b[0;32m----> 3\u001b[0;31m                                    \u001b[0mlongitudes\u001b[0m\u001b[0;34m=\u001b[0m\u001b[0malberta_data\u001b[0m\u001b[0;34m[\u001b[0m\u001b[0;34m'Longitude'\u001b[0m\u001b[0;34m]\u001b[0m\u001b[0;34m\u001b[0m\u001b[0;34m\u001b[0m\u001b[0m\n\u001b[0m\u001b[1;32m      4\u001b[0m                                   )\n",
      "\u001b[0;32m<ipython-input-30-225bbcf245f4>\u001b[0m in \u001b[0;36mgetNearbyVenues\u001b[0;34m(names, latitudes, longitudes, radius)\u001b[0m\n\u001b[1;32m     35\u001b[0m                   \u001b[0;34m'Venue Latitude'\u001b[0m\u001b[0;34m,\u001b[0m\u001b[0;34m\u001b[0m\u001b[0;34m\u001b[0m\u001b[0m\n\u001b[1;32m     36\u001b[0m                   \u001b[0;34m'Venue Longitude'\u001b[0m\u001b[0;34m,\u001b[0m\u001b[0;34m\u001b[0m\u001b[0;34m\u001b[0m\u001b[0m\n\u001b[0;32m---> 37\u001b[0;31m                   'Venue Category']\n\u001b[0m\u001b[1;32m     38\u001b[0m \u001b[0;34m\u001b[0m\u001b[0m\n\u001b[1;32m     39\u001b[0m     \u001b[0;32mreturn\u001b[0m\u001b[0;34m(\u001b[0m\u001b[0mnearby_venues\u001b[0m\u001b[0;34m)\u001b[0m\u001b[0;34m\u001b[0m\u001b[0;34m\u001b[0m\u001b[0m\n",
      "\u001b[0;32m~/conda/envs/python/lib/python3.6/site-packages/pandas/core/generic.py\u001b[0m in \u001b[0;36m__setattr__\u001b[0;34m(self, name, value)\u001b[0m\n\u001b[1;32m   5152\u001b[0m         \u001b[0;32mtry\u001b[0m\u001b[0;34m:\u001b[0m\u001b[0;34m\u001b[0m\u001b[0;34m\u001b[0m\u001b[0m\n\u001b[1;32m   5153\u001b[0m             \u001b[0mobject\u001b[0m\u001b[0;34m.\u001b[0m\u001b[0m__getattribute__\u001b[0m\u001b[0;34m(\u001b[0m\u001b[0mself\u001b[0m\u001b[0;34m,\u001b[0m \u001b[0mname\u001b[0m\u001b[0;34m)\u001b[0m\u001b[0;34m\u001b[0m\u001b[0;34m\u001b[0m\u001b[0m\n\u001b[0;32m-> 5154\u001b[0;31m             \u001b[0;32mreturn\u001b[0m \u001b[0mobject\u001b[0m\u001b[0;34m.\u001b[0m\u001b[0m__setattr__\u001b[0m\u001b[0;34m(\u001b[0m\u001b[0mself\u001b[0m\u001b[0;34m,\u001b[0m \u001b[0mname\u001b[0m\u001b[0;34m,\u001b[0m \u001b[0mvalue\u001b[0m\u001b[0;34m)\u001b[0m\u001b[0;34m\u001b[0m\u001b[0;34m\u001b[0m\u001b[0m\n\u001b[0m\u001b[1;32m   5155\u001b[0m         \u001b[0;32mexcept\u001b[0m \u001b[0mAttributeError\u001b[0m\u001b[0;34m:\u001b[0m\u001b[0;34m\u001b[0m\u001b[0;34m\u001b[0m\u001b[0m\n\u001b[1;32m   5156\u001b[0m             \u001b[0;32mpass\u001b[0m\u001b[0;34m\u001b[0m\u001b[0;34m\u001b[0m\u001b[0m\n",
      "\u001b[0;32mpandas/_libs/properties.pyx\u001b[0m in \u001b[0;36mpandas._libs.properties.AxisProperty.__set__\u001b[0;34m()\u001b[0m\n",
      "\u001b[0;32m~/conda/envs/python/lib/python3.6/site-packages/pandas/core/generic.py\u001b[0m in \u001b[0;36m_set_axis\u001b[0;34m(self, axis, labels)\u001b[0m\n\u001b[1;32m    562\u001b[0m     \u001b[0;32mdef\u001b[0m \u001b[0m_set_axis\u001b[0m\u001b[0;34m(\u001b[0m\u001b[0mself\u001b[0m\u001b[0;34m,\u001b[0m \u001b[0maxis\u001b[0m\u001b[0;34m:\u001b[0m \u001b[0mint\u001b[0m\u001b[0;34m,\u001b[0m \u001b[0mlabels\u001b[0m\u001b[0;34m:\u001b[0m \u001b[0mIndex\u001b[0m\u001b[0;34m)\u001b[0m \u001b[0;34m->\u001b[0m \u001b[0;32mNone\u001b[0m\u001b[0;34m:\u001b[0m\u001b[0;34m\u001b[0m\u001b[0;34m\u001b[0m\u001b[0m\n\u001b[1;32m    563\u001b[0m         \u001b[0mlabels\u001b[0m \u001b[0;34m=\u001b[0m \u001b[0mensure_index\u001b[0m\u001b[0;34m(\u001b[0m\u001b[0mlabels\u001b[0m\u001b[0;34m)\u001b[0m\u001b[0;34m\u001b[0m\u001b[0;34m\u001b[0m\u001b[0m\n\u001b[0;32m--> 564\u001b[0;31m         \u001b[0mself\u001b[0m\u001b[0;34m.\u001b[0m\u001b[0m_mgr\u001b[0m\u001b[0;34m.\u001b[0m\u001b[0mset_axis\u001b[0m\u001b[0;34m(\u001b[0m\u001b[0maxis\u001b[0m\u001b[0;34m,\u001b[0m \u001b[0mlabels\u001b[0m\u001b[0;34m)\u001b[0m\u001b[0;34m\u001b[0m\u001b[0;34m\u001b[0m\u001b[0m\n\u001b[0m\u001b[1;32m    565\u001b[0m         \u001b[0mself\u001b[0m\u001b[0;34m.\u001b[0m\u001b[0m_clear_item_cache\u001b[0m\u001b[0;34m(\u001b[0m\u001b[0;34m)\u001b[0m\u001b[0;34m\u001b[0m\u001b[0;34m\u001b[0m\u001b[0m\n\u001b[1;32m    566\u001b[0m \u001b[0;34m\u001b[0m\u001b[0m\n",
      "\u001b[0;32m~/conda/envs/python/lib/python3.6/site-packages/pandas/core/internals/managers.py\u001b[0m in \u001b[0;36mset_axis\u001b[0;34m(self, axis, new_labels)\u001b[0m\n\u001b[1;32m    225\u001b[0m         \u001b[0;32mif\u001b[0m \u001b[0mnew_len\u001b[0m \u001b[0;34m!=\u001b[0m \u001b[0mold_len\u001b[0m\u001b[0;34m:\u001b[0m\u001b[0;34m\u001b[0m\u001b[0;34m\u001b[0m\u001b[0m\n\u001b[1;32m    226\u001b[0m             raise ValueError(\n\u001b[0;32m--> 227\u001b[0;31m                 \u001b[0;34mf\"Length mismatch: Expected axis has {old_len} elements, new \"\u001b[0m\u001b[0;34m\u001b[0m\u001b[0;34m\u001b[0m\u001b[0m\n\u001b[0m\u001b[1;32m    228\u001b[0m                 \u001b[0;34mf\"values have {new_len} elements\"\u001b[0m\u001b[0;34m\u001b[0m\u001b[0;34m\u001b[0m\u001b[0m\n\u001b[1;32m    229\u001b[0m             )\n",
      "\u001b[0;31mValueError\u001b[0m: Length mismatch: Expected axis has 0 elements, new values have 7 elements"
     ]
    }
   ],
   "source": [
    "alberta_venues = getNearbyVenues(names=alberta_data['Neighbourhood'],\n",
    "                                   latitudes=alberta_data['Latitude'],\n",
    "                                   longitudes=alberta_data['Longitude']\n",
    "                                  )"
   ]
  },
  {
   "cell_type": "code",
   "execution_count": null,
   "metadata": {},
   "outputs": [],
   "source": []
  },
  {
   "cell_type": "code",
   "execution_count": null,
   "metadata": {},
   "outputs": [],
   "source": []
  }
 ],
 "metadata": {
  "kernelspec": {
   "display_name": "Python",
   "language": "python",
   "name": "conda-env-python-py"
  },
  "language_info": {
   "codemirror_mode": {
    "name": "ipython",
    "version": 3
   },
   "file_extension": ".py",
   "mimetype": "text/x-python",
   "name": "python",
   "nbconvert_exporter": "python",
   "pygments_lexer": "ipython3",
   "version": "3.6.12"
  }
 },
 "nbformat": 4,
 "nbformat_minor": 4
}
