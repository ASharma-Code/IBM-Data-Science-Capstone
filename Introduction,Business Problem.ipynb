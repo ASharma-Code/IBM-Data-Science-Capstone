# Buying a rental property in Toronto, Ontario



## 1. Introduction

### 1.1.  Business Problem

There has been a significant increase in the individuals looking at owning rental properties as a source of income over the past decade. The real estate market in Toronto, Ontario has been very popular for the past decade, especially with Toronto becoming a business hub and tourist destination. Prices in Toronto are quite high, which is why it is extremely important that consumers make an informed decision when purchasing an income generating rental property.

Location is the key when purchasing a property, and two key characteristics that contributes to the success of an income generating property are the amenities nearby and the crime rate. 

The purpose of this study will be to look at the most attractive neighborhoods to purchase property in Toronto based on the access to amenities and crime rates.


### 1.2. Target Audience

The target audience of this report would be anyone who wants to buy an income generating property in the city Toronto, Ontario.
